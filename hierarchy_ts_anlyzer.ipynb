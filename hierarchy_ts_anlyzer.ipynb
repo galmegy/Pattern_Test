{
 "cells": [
  {
   "cell_type": "markdown",
   "id": "21ed69fb",
   "metadata": {},
   "source": [
    "## Basic hierarchy of time series analysis"
   ]
  },
  {
   "cell_type": "markdown",
   "id": "52db173a",
   "metadata": {},
   "source": [
    "* 새로운  item 추가, 삭제를 쉽게 하기 위한  Design Pattern  \n",
    "* classmethod 사용: 기동부, 정상운전부, 정지부로 나누고, 각각은  DNN 의 다른 모델을 사용해야 함  "
   ]
  },
  {
   "cell_type": "code",
   "execution_count": 40,
   "id": "26f9c2ef",
   "metadata": {},
   "outputs": [],
   "source": [
    "from abc import ABC, abstractmethod\n",
    "from typing import List, Tuple, Union, Dict\n",
    "import torch\n",
    "import pdb"
   ]
  },
  {
   "cell_type": "code",
   "execution_count": 52,
   "id": "c4aaa4d1",
   "metadata": {},
   "outputs": [],
   "source": [
    "# Base class for creating ts(Time sereis) analytic items\n",
    "class ItemBase(ABC):\n",
    "    _modes = ['start', 'stable', 'finish']\n",
    "    \n",
    "    @abstractmethod\n",
    "    def run(self, *args):\n",
    "        pass\n",
    "    \n",
    "    # cls로 class변수에 access 가능(staticmethod와 차이점)\n",
    "    @classmethod\n",
    "    def _load_weight(cls, items):\n",
    "        cls.models = {}\n",
    "        for key, weight in items.items():\n",
    "            if key not in cls._modes:\n",
    "                assert False, 'Mode Error!!'\n",
    "            # cls.models[key] = cls.dnn_model(weight)  \n",
    "            cls.models[key] = None    "
   ]
  },
  {
   "cell_type": "code",
   "execution_count": 53,
   "id": "871a00f1",
   "metadata": {},
   "outputs": [],
   "source": [
    "# Child class for forecasting time series\n",
    "class Forecastor(ItemBase):\n",
    "    def __init__(self, items):\n",
    "        # self.dnn_model = dnn_model()\n",
    "        self._load_weight(items)\n",
    "        \n",
    "    def run(self, *args):\n",
    "        batch, mode = args\n",
    "        # outs = self.models[mode].predict(batch)\n",
    "        print(batch.shape)\n",
    "        return batch.shape"
   ]
  },
  {
   "cell_type": "code",
   "execution_count": 54,
   "id": "f229a635",
   "metadata": {},
   "outputs": [],
   "source": [
    "# Child class for outlier detection\n",
    "class AnomalyDetector(ItemBase):\n",
    "    def __init__(self, items):\n",
    "        # self.dnn_model = dnn_model()\n",
    "        self._load_weight(items)\n",
    "        \n",
    "    def run(self, *args):\n",
    "        batch, mode = args\n",
    "        print(batch.shape)\n",
    "        return batch.shape"
   ]
  },
  {
   "cell_type": "markdown",
   "id": "f2669086",
   "metadata": {},
   "source": [
    "### Main processor to run all items"
   ]
  },
  {
   "cell_type": "code",
   "execution_count": 55,
   "id": "cd4c996d",
   "metadata": {},
   "outputs": [],
   "source": [
    "class Processor(object):\n",
    "    def __init__(self, items):\n",
    "        self.items = items\n",
    "        \n",
    "    def process(self, ts):\n",
    "        res = []\n",
    "        # mode = ts_decision(ts)  # 기동,정상,정지부 판정\n",
    "        mode = 'start'\n",
    "        for item in self.items:\n",
    "            outs = item.run(ts, mode)\n",
    "            res.append(res)\n",
    "        return res"
   ]
  },
  {
   "cell_type": "code",
   "execution_count": 60,
   "id": "54b7a372",
   "metadata": {},
   "outputs": [
    {
     "name": "stdout",
     "output_type": "stream",
     "text": [
      "torch.Size([8, 32, 16])\n",
      "torch.Size([8, 32, 16])\n"
     ]
    },
    {
     "data": {
      "text/plain": [
       "[[...], [...]]"
      ]
     },
     "execution_count": 60,
     "metadata": {},
     "output_type": "execute_result"
    }
   ],
   "source": [
    "# There are two local processes to handle time series data\n",
    "forecast = Forecastor({'start':'m1.pt', 'stable': 'm2.pt', 'finish': 'm3.pt'})\n",
    "anodetec = AnomalyDetector({'start':'m1.pt', 'stable': 'm2.pt', 'finish': 'm3.pt'})\n",
    "batch = torch.rand(8,32,16)\n",
    "\n",
    "# If you need to add another process, first define and simply add it to arg list\n",
    "a1 = Processor([forecast, anodetec])\n",
    "a1.process(batch)"
   ]
  },
  {
   "cell_type": "code",
   "execution_count": null,
   "id": "08de136b",
   "metadata": {},
   "outputs": [],
   "source": []
  }
 ],
 "metadata": {
  "kernelspec": {
   "display_name": "Python 3 (ipykernel)",
   "language": "python",
   "name": "python3"
  },
  "language_info": {
   "codemirror_mode": {
    "name": "ipython",
    "version": 3
   },
   "file_extension": ".py",
   "mimetype": "text/x-python",
   "name": "python",
   "nbconvert_exporter": "python",
   "pygments_lexer": "ipython3",
   "version": "3.8.13"
  }
 },
 "nbformat": 4,
 "nbformat_minor": 5
}
